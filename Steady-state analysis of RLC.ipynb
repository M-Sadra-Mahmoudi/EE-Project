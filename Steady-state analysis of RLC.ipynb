{
 "cells": [
  {
   "cell_type": "markdown",
   "metadata": {},
   "source": [
    "__Steady state analysis of AC circuit__  \n",
    "---   \n",
    "The project for *fundumentals of electrical engnieering* course  \n",
    "***\n",
    "**M. Sadra Mahmoudi**  \n",
    "Winter 2023\n",
    "\n"
   ]
  },
  {
   "cell_type": "code",
   "execution_count": 1,
   "metadata": {},
   "outputs": [],
   "source": [
    "#Importing necessary libraries\n",
    "from tabulate import tabulate as tbl\n",
    "import numpy as np"
   ]
  },
  {
   "cell_type": "markdown",
   "metadata": {},
   "source": [
    "## Define the Element Classes"
   ]
  },
  {
   "cell_type": "markdown",
   "metadata": {},
   "source": [
    "### Class for R, L, C , Z"
   ]
  },
  {
   "cell_type": "code",
   "execution_count": 2,
   "metadata": {},
   "outputs": [],
   "source": [
    "class CircuitElement:\n",
    "  \"\"\"\n",
    "  Represents a circuit element in an AC circuit.\n",
    "  \"\"\"\n",
    "  def __init__(self, node1, node2, element_type, value):\n",
    "    \"\"\"\n",
    "    Initialize a CircuitElement object.\n",
    "\n",
    "    Parameters:\n",
    "    - node1: the index of the first node connected to the element\n",
    "    - node2: the index of the second node connected to the element\n",
    "    - element_type: the type of the element (R, Z, C, L)\n",
    "    - value: the value of the element\n",
    "    \"\"\"\n",
    "    self.node1 = node1\n",
    "    self.node2 = node2\n",
    "    self.element_type = element_type\n",
    "    self.value = value\n",
    "\n",
    "  def impedance(self, frequency):\n",
    "    \"\"\"\n",
    "    Calculate the complex impedance of the element at the given frequency.\n",
    "\n",
    "    Parameters:\n",
    "    - frequency: the frequency in Hz\n",
    "\n",
    "    Returns:\n",
    "    - the complex impedance of the element\n",
    "    \"\"\"\n",
    "    if self.element_type == 'R':\n",
    "      return self.value\n",
    "    \n",
    "    elif self.element_type == 'L':\n",
    "      return 1j*2*np.pi*frequency*self.value\n",
    "    \n",
    "    elif self.element_type == 'C':\n",
    "      return 1/(1j*2*np.pi*frequency*self.value)\n",
    "    \n",
    "    elif self.element_type == 'Z':\n",
    "      return self.value\n",
    "    \n",
    "    else:\n",
    "      raise ValueError(f\"Invalid element type: {self.element_type}\")\n"
   ]
  },
  {
   "cell_type": "code",
   "execution_count": 3,
   "metadata": {},
   "outputs": [
    {
     "name": "stdout",
     "output_type": "stream",
     "text": [
      "-6.37j\n"
     ]
    }
   ],
   "source": [
    "sample = CircuitElement(node1 = 1,\n",
    "                   node2 = 2,\n",
    "                   element_type= 'C',\n",
    "                   value= .0005)\n",
    "\n",
    "print(np.round(sample.impedance(frequency=50),2))"
   ]
  },
  {
   "cell_type": "markdown",
   "metadata": {},
   "source": [
    "### Class for Sources"
   ]
  },
  {
   "cell_type": "code",
   "execution_count": 4,
   "metadata": {},
   "outputs": [],
   "source": [
    "class Source:\n",
    "  \"\"\"\n",
    "  Represents an AC voltage/current source in an AC circuit.\n",
    "  \"\"\"\n",
    "  def __init__(self, node1, node2, element_type, value, phase):\n",
    "    \"\"\"\n",
    "    Initialize a source object.\n",
    "\n",
    "    Parameters:\n",
    "    - node1: the index of the first node connected to the element\n",
    "    - node2: the index of the second node connected to the element\n",
    "    - value: the rms value\n",
    "    - phase: the phase difference between the voltage and current in degrees\n",
    "\n",
    "    \"\"\"\n",
    "    assert element_type in ['I', 'V'], \"Invalid element type\"\n",
    "\n",
    "    \n",
    "    self.node1 = node1\n",
    "    self.node2 = node2\n",
    "    self.element_type = element_type\n",
    "    self.value = value\n",
    "    self.phase = phase\n",
    "    \n",
    "  def complex_value(self):\n",
    "    \"\"\"\n",
    "    Calculate the complex current/voltage of the AC source.\n",
    "    \"\"\"\n",
    "    return self.value*np.exp(1j*np.deg2rad(self.phase))"
   ]
  },
  {
   "cell_type": "code",
   "execution_count": 5,
   "metadata": {},
   "outputs": [
    {
     "data": {
      "text/plain": [
       "(9.397+3.42j)"
      ]
     },
     "execution_count": 5,
     "metadata": {},
     "output_type": "execute_result"
    }
   ],
   "source": [
    "sample = Source(node1= 4,\n",
    "           node2 = 5,\n",
    "           element_type= 'I',\n",
    "           value= 10,\n",
    "           phase= 20)\n",
    "\n",
    "sample.complex_value().round(3)"
   ]
  },
  {
   "cell_type": "markdown",
   "metadata": {},
   "source": [
    "## Parse the Input"
   ]
  },
  {
   "cell_type": "code",
   "execution_count": 6,
   "metadata": {},
   "outputs": [],
   "source": [
    "def parse_input(input: str):\n",
    "      '''\n",
    "      Parse the input text (with multiple lines)\n",
    "      \n",
    "      Returns:\n",
    "      - A list containing circuit elements \n",
    "      - The frequency\n",
    "       \n",
    "      '''\n",
    "      input_rows = [s.split(\" \") for s in input.split('\\n')]\n",
    "      \n",
    "      for i in range(len(input_rows)):\n",
    "            if input_rows[i][0] == 'f':\n",
    "                  f = input_rows.pop(i)\n",
    "                  \n",
    "      frequency = float(f[-1])\n",
    "      \n",
    "      def parse_element(element_list):\n",
    "            \"\"\"\n",
    "            Parse a list representing a circuit element/source into a proper object.\n",
    "\n",
    "            Parameters:\n",
    "            - element_list: list of values representing the element\n",
    "            (for example: [1, 2, 'R', 3])\n",
    "\n",
    "            Returns:\n",
    "            - a CircuitElement or Source object\n",
    "            \"\"\"\n",
    "            \n",
    "            node1 = int(element_list[0])\n",
    "            node2 = int(element_list[1])\n",
    "            element_type = element_list[2]\n",
    "            if element_type != 'Z':\n",
    "                  value = float(element_list[3])\n",
    "            else:\n",
    "                  value = complex(element_list[3])\n",
    "            \n",
    "            if element_type in ['R', 'C', 'L', 'Z']:\n",
    "                  return CircuitElement(node1, node2, element_type, value)\n",
    "\n",
    "            if element_type in ['V', 'I']:\n",
    "                  phase = float(element_list[4])\n",
    "                  return Source(node1, node2, element_type, value, phase)\n",
    "            \n",
    "            else:\n",
    "                  raise ValueError(f\"Invalid element type: {element_type}\")\n",
    "      \n",
    "      elements = [parse_element(row) for row in input_rows]\n",
    "      return elements, frequency\n"
   ]
  },
  {
   "cell_type": "markdown",
   "metadata": {},
   "source": [
    "## Auxiliary Functions"
   ]
  },
  {
   "cell_type": "code",
   "execution_count": 7,
   "metadata": {},
   "outputs": [],
   "source": [
    "def find_num_nodes(elements):\n",
    "      counter = 1\n",
    "      for i in elements:\n",
    "            if i.node1 > counter:\n",
    "                  counter = i.node1\n",
    "            if i.node2 > counter:\n",
    "                  counter = i.node2\n",
    "      return counter"
   ]
  },
  {
   "cell_type": "code",
   "execution_count": 8,
   "metadata": {},
   "outputs": [],
   "source": [
    "def split_elements(elements):\n",
    "      \"\"\"\n",
    "      Divide the element into three categories: impedences, current sources, and voltage sources\n",
    "      \n",
    "      Parameters:\n",
    "      - element: list of element\n",
    "\n",
    "      Returns:\n",
    "      - Three lists containing the element: impedences, current_sources, voltage_sources\n",
    "      \"\"\"\n",
    "      impedences = []\n",
    "      current_sources = []\n",
    "      voltage_sources = []\n",
    "      for i in elements:\n",
    "            if i.element_type in ['R', 'C', 'L', 'Z']:\n",
    "                  impedences.append(i)\n",
    "            elif i.element_type == 'V':\n",
    "                  voltage_sources.append(i)\n",
    "            elif i.element_type == 'I':\n",
    "                  current_sources.append(i)\n",
    "      return impedences, current_sources, voltage_sources"
   ]
  },
  {
   "cell_type": "code",
   "execution_count": 9,
   "metadata": {},
   "outputs": [],
   "source": [
    "def r2p(r: complex):\n",
    "      '''transform a complex number from rectangular form to polar form'''\n",
    "      angle = np.angle(r, deg = True)\n",
    "      amp = np.abs(r)\n",
    "      return str(np.round(amp,3)) + \" < \" + str(np.round(angle,2))"
   ]
  },
  {
   "cell_type": "code",
   "execution_count": 10,
   "metadata": {},
   "outputs": [
    {
     "data": {
      "text/plain": [
       "'4.123 < 75.96'"
      ]
     },
     "execution_count": 10,
     "metadata": {},
     "output_type": "execute_result"
    }
   ],
   "source": [
    "r2p(np.complex(1,4))"
   ]
  },
  {
   "cell_type": "code",
   "execution_count": 11,
   "metadata": {},
   "outputs": [],
   "source": [
    "class supernodes:\n",
    "      \n",
    "      def __init__(self):\n",
    "            from collections import defaultdict\n",
    "            self.all_nodes = set() #set containing all the nodes that are recorded\n",
    "            self.clusters = [] #list containing sets which represent supernodes\n",
    "            self.connections = defaultdict(int) # stores the number of other nodes in a supernode is each node connected\n",
    "      \n",
    "      def add(self, node1, node2):\n",
    "            self.connections[node1] += 1\n",
    "            self.connections[node2] += 1\n",
    "            \n",
    "            if (node1 in self.all_nodes) and (node2 in self.all_nodes): #when two previously seperated supernodes are connected\n",
    "                  for i in self.clusters:\n",
    "                        if (node1 in i) and (node2 not in i):\n",
    "                              temp1 = i.copy()\n",
    "                              \n",
    "                        elif (node2 in i) and (node1 not in i):\n",
    "                              temp2 = i.copy()\n",
    "                              \n",
    "                  try:\n",
    "                        self.clusters.append(temp1.union(temp2))\n",
    "                        self.clusters.remove(temp1)\n",
    "                        self.clusters.remove(temp2)\n",
    "                  except:\n",
    "                        pass\n",
    "                  \n",
    "            if node1 in self.all_nodes or node2 in self.all_nodes:\n",
    "                  if node1 in self.all_nodes:\n",
    "                        for i in self.clusters:\n",
    "                              if node1 in i:\n",
    "                                    i.add(node2)\n",
    "                                    self.all_nodes.add(node2)\n",
    "                                    break\n",
    "                  if node2 in self.all_nodes:\n",
    "                        for i in self.clusters:\n",
    "                              if node2 in i:\n",
    "                                    i.add(node1)\n",
    "                                    self.all_nodes.add(node1)\n",
    "                                    break         \n",
    "\n",
    "                  \n",
    "            else:\n",
    "                  self.clusters.append(set([node1,node2]))\n",
    "                  self.all_nodes.add(node1)\n",
    "                  self.all_nodes.add(node2)\n",
    "                  \n",
    "      def connected_nodes(self, node, inclusive = False):\n",
    "            '''returns a list containing nodes that are connected to a given node in a supernode'''\n",
    "            assert node in self.all_nodes, 'invalid node'\n",
    "            \n",
    "            for i in self.clusters:\n",
    "                  if node in i:\n",
    "                        if inclusive:\n",
    "                              return i\n",
    "                        else:\n",
    "                              return [j for j in i if j != node]"
   ]
  },
  {
   "cell_type": "code",
   "execution_count": 12,
   "metadata": {},
   "outputs": [
    {
     "data": {
      "text/plain": [
       "[{1, 2, 3, 4, 5}]"
      ]
     },
     "execution_count": 12,
     "metadata": {},
     "output_type": "execute_result"
    }
   ],
   "source": [
    "x = supernodes()\n",
    "x.add(1,2)\n",
    "x.add(3,4)\n",
    "x.add(4,5)\n",
    "x.add(2,3)\n",
    "\n",
    "x.clusters"
   ]
  },
  {
   "cell_type": "markdown",
   "metadata": {},
   "source": [
    "## Solver Function"
   ]
  },
  {
   "cell_type": "code",
   "execution_count": 13,
   "metadata": {},
   "outputs": [],
   "source": [
    "def Solve(elements, frequency):\n",
    "\n",
    "  # Initial Definitions\n",
    "  num_nodes = find_num_nodes(elements)\n",
    "  impedences, current_sources, voltage_sources = split_elements(elements)\n",
    "  \n",
    "  # Create the blank matrix for admittance matrix\n",
    "  Y = np.zeros((num_nodes, num_nodes), dtype = complex) \n",
    "  \n",
    "  # First, we add the impedences\n",
    "  for z in impedences:\n",
    "    Y[z.node1-1, z.node1-1] += 1/z.impedance(frequency)\n",
    "    Y[z.node2-1, z.node2-1] += 1/z.impedance(frequency)\n",
    "    Y[z.node1-1, z.node2-1] -= 1/z.impedance(frequency)\n",
    "    Y[z.node2-1, z.node1-1] -= 1/z.impedance(frequency)\n",
    "    \n",
    "  \n",
    "  # Then, current sources\n",
    "  S = np.zeros(num_nodes, dtype = complex)\n",
    "  for c in current_sources:\n",
    "    S[c.node1-1] -= c.complex_value()\n",
    "    S[c.node2-1] += c.complex_value()\n",
    "  \n",
    "  #Then, voltage sources\n",
    "  su = supernodes()\n",
    "  \n",
    "  for v in voltage_sources:\n",
    "    su.add(v.node1,v.node2)\n",
    "  \n",
    "  for v in voltage_sources:\n",
    "    t1 = Y[v.node1-1].copy() #temporary variable to store the sum of selected rows (nodes in a supernode)\n",
    "    t2 = S[v.node1-1].copy()\n",
    "    \n",
    "    for n in su.connected_nodes(v.node1): #finding all the supernodes\n",
    "      t1 += Y[n-1]\n",
    "      t2 += S[n-1]\n",
    "      \n",
    "    for i in su.connected_nodes(v.node1, inclusive= True): #replacing each row with sum of the connected rows\n",
    "      Y[i-1] = t1\n",
    "      S[i-1] = t2\n",
    "      \n",
    "    \n",
    "    #an we should add the equation: v.node2 - v.node1 = v.value\n",
    "    y = np.zeros((1,num_nodes), dtype = complex)\n",
    "    y[0][v.node2-1] = 1\n",
    "    y[0][v.node1-1] = -1\n",
    "    Y = np.append(Y,y, axis=0)\n",
    "    \n",
    "    S = np.append(S, np.array([v.complex_value()]))\n",
    "    \n",
    "    \n",
    "  #Setting V1 = 0 as the reference point\n",
    "  reference_point = np.zeros((1,num_nodes), dtype = complex)\n",
    "  reference_point[0][0] = 1\n",
    "  \n",
    "  Y = np.append(Y, reference_point, axis= 0)\n",
    "  S = np.append(S, np.array([[0]], dtype= complex))\n",
    "  \n",
    "  # Solve for the phasor voltages\n",
    "  V = np.linalg.lstsq(Y, S, rcond = None)[0]\n",
    "  \n",
    "  V = np.array(list(map(complex, V)))\n",
    "  V = np.round(V, 2)\n",
    "  \n",
    "  Vpolar = np.array(list(map(r2p, V))).reshape(-1,1)\n",
    "  V_names = np.array([\"V\" + str(i) for i in range(1,num_nodes + 1)]).reshape(-1,1)\n",
    "  \n",
    "  voltage_table = np.append(V_names, Vpolar, axis=1)\n",
    "  \n",
    "  print(tbl(voltage_table, headers = ['', 'A(rms) < phi'], tablefmt=\"github\"))\n",
    "  \n",
    "  \n",
    "  #Now we calculate the currents\n",
    "  C = np.zeros((num_nodes, num_nodes), dtype = complex) #Currents: from point i to point j\n",
    "\n",
    "  \n",
    "  for z in impedences:\n",
    "      From = z.node1-1\n",
    "      To = z.node2-1\n",
    "      i = (V[From] - V[To])/z.impedance(frequency)\n",
    "      \n",
    "      C[From, To] += i\n",
    "      C[To, From] -= i\n",
    "      \n",
    "  for c in current_sources:\n",
    "      From = c.node1-1\n",
    "      To = c.node2-1\n",
    "      i = c.complex_value() \n",
    "      \n",
    "      C[From, To] += i\n",
    "      C[To, From] -= i\n",
    "      \n",
    "  #Now we want to find the current passing through each voltage source — this was indeed the most tricky part!\n",
    "  #First, the matrix on the left hand side of the equation\n",
    "  m = np.zeros((num_nodes, len(voltage_sources))) \n",
    "  for i in range(len(voltage_sources)):\n",
    "        v = voltage_sources[i]\n",
    "        m[v.node1-1, i] -= 1\n",
    "        m[v.node2-1, i] += 1\n",
    "        \n",
    "  #Then, right-hand side of the equation\n",
    "  l = []\n",
    "  for i in range(num_nodes):\n",
    "    l.append((C[i,:].sum() - C[:,i].sum())/2)\n",
    "  l = np.array(l, dtype= complex)\n",
    "  \n",
    "  #Now we can solve the equation to find the currents passing through voltage sources\n",
    "  i_voltage_sources = np.linalg.lstsq(m, l, rcond = None)[0]\n",
    "\n",
    "  for n in range(len(voltage_sources)):  # Then we add these to the C matrix which determines each current in the system\n",
    "        v = voltage_sources[n]\n",
    "        From = v.node1-1\n",
    "        To = v.node2-1\n",
    "        i = i_voltage_sources[n]\n",
    "        C[From, To] += i\n",
    "        C[To, From] -= i\n",
    "        \n",
    "        \n",
    "  r2p_v = np.vectorize(r2p)\n",
    "  Cpolar = r2p_v(C)\n",
    "  \n",
    "  t = np.array(['From', 'To', 'V', 'I', 'P', 'Q', 'S']).reshape(1,-1)\n",
    "  \n",
    "  for i in range(num_nodes):\n",
    "    for j in range(num_nodes):\n",
    "      if j>=i:\n",
    "        c = C[i,j]\n",
    "        if c != 0:\n",
    "          v =  V[i] -V[j]\n",
    "          s = np.conjugate(c)*v\n",
    "          row = np.array([i+1, j+1, r2p(v), r2p(c), round(s.real,4), round(s.imag,4), r2p(s)]).reshape(1,-1)\n",
    "          t = np.append(t, row, axis = 0)\n",
    "        \n",
    "  print('\\n')  \n",
    "  print( tbl(t, tablefmt=\"github\" , headers = 'firstrow', stralign= 'center', numalign= 'center'))\n",
    "\n",
    "  return voltage_table, Cpolar\n"
   ]
  },
  {
   "cell_type": "markdown",
   "metadata": {},
   "source": [
    "## Running"
   ]
  },
  {
   "cell_type": "code",
   "execution_count": 18,
   "metadata": {},
   "outputs": [],
   "source": [
    "input = '''1 2 V 1 90\n",
    "1 4 Z -0.5j\n",
    "1 3 I 2 20\n",
    "3 4 I 1 90\n",
    "2 3 Z 1+0.5j\n",
    "f 1'''\n"
   ]
  },
  {
   "cell_type": "code",
   "execution_count": 19,
   "metadata": {},
   "outputs": [
    {
     "name": "stdout",
     "output_type": "stream",
     "text": [
      "|    | A(rms) < phi   |\n",
      "|----|----------------|\n",
      "| V1 | 0.0 < 0.0      |\n",
      "| V2 | 1.0 < 90.0     |\n",
      "| V3 | 2.605 < 38.45  |\n",
      "| V4 | 0.5 < 0.0      |\n",
      "\n",
      "\n",
      "|  From  |  To  |        V        |       I        |    P    |    Q    |       S        |\n",
      "|--------|------|-----------------|----------------|---------|---------|----------------|\n",
      "|   1    |  2   |   1.0 < -90.0   | 1.906 < 170.4  | -0.318  | 1.8797  |  1.906 < 99.6  |\n",
      "|   1    |  3   | 2.605 < -141.55 |   2.0 < 20.0   | -4.9421 | -1.6492 | 5.21 < -161.55 |\n",
      "|   1    |  4   |   0.5 < 180.0   |  1.0 < -90.0   |   -0    |  -0.5   |  0.5 < -90.0   |\n",
      "|   2    |  3   | 2.132 < -163.09 | 1.907 < 170.34 | 3.6368  | 1.8184  | 4.066 < 26.57  |\n",
      "|   3    |  4   |  2.235 < 46.45  |   1.0 < 90.0   |  1.62   |  -1.54  | 2.235 < -43.55 |\n"
     ]
    }
   ],
   "source": [
    "elements, frequency = parse_input(input)\n",
    "V, C = Solve(elements, frequency) "
   ]
  }
 ],
 "metadata": {
  "interpreter": {
   "hash": "88279d2366fe020547cde40dd65aa0e3aa662a6ec1f3ca12d88834876c85e1a6"
  },
  "kernelspec": {
   "display_name": "Python 3.8.5 ('base')",
   "language": "python",
   "name": "python3"
  },
  "language_info": {
   "codemirror_mode": {
    "name": "ipython",
    "version": 3
   },
   "file_extension": ".py",
   "mimetype": "text/x-python",
   "name": "python",
   "nbconvert_exporter": "python",
   "pygments_lexer": "ipython3",
   "version": "3.8.5"
  },
  "orig_nbformat": 4
 },
 "nbformat": 4,
 "nbformat_minor": 2
}
